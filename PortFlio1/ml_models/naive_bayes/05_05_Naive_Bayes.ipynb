{
  "cells": [
    {
      "cell_type": "code",
      "execution_count": null,
      "metadata": {
        "id": "r2Xy-e7Zp4Fh"
      },
      "outputs": [],
      "source": [
        "import numpy as np\n",
        "import logging\n",
        "from sklearn.naive_bayes import MultinomialNB\n",
        "from sklearn.datasets import fetch_20newsgroups\n",
        "from sklearn.feature_extraction.text import TfidfVectorizer\n",
        "from sklearn.metrics import confusion_matrix\n",
        "import matplotlib.pyplot as plt\n",
        "import seaborn as sns"
      ]
    },
    {
      "cell_type": "code",
      "source": [
        "import logging\n",
        "import os\n",
        "\n",
        "# Ensure logs directory exists\n",
        "os.makedirs(\"logs\", exist_ok=True)\n",
        "\n",
        "# Define log file path\n",
        "log_file_path = os.path.join(\"logs\", \"logs.txt\")\n",
        "\n",
        "# Configure logging\n",
        "logging.basicConfig(filename=log_file_path, level=logging.INFO,\n",
        "                    format=\"%(asctime)s - %(levelname)s - %(message)s\",\n",
        "                    filemode=\"w\")  # Change from \"w\" to \"a\" to append logs\n",
        "\n",
        "console = logging.StreamHandler()\n",
        "console.setLevel(logging.INFO)\n",
        "formatter = logging.Formatter(\"%(asctime)s - %(levelname)s - %(message)s\")\n",
        "console.setFormatter(formatter)\n",
        "logging.getLogger(\"\").addHandler(console)"
      ],
      "metadata": {
        "id": "TWFCQpOuqmZX"
      },
      "execution_count": null,
      "outputs": []
    },
    {
      "cell_type": "code",
      "source": [
        "def load_data():\n",
        "    logging.info(\"Loading dataset...\")\n",
        "    categories = ['talk.religion.misc', 'soc.religion.christian', 'sci.space', 'comp.graphics']\n",
        "    train = fetch_20newsgroups(subset='train', categories=categories, remove=('headers', 'footers', 'quotes'))\n",
        "    test = fetch_20newsgroups(subset='test', categories=categories, remove=('headers', 'footers', 'quotes'))\n",
        "\n",
        "    # Save dataset\n",
        "    os.makedirs(\"dataset\", exist_ok=True)\n",
        "    with open(\"dataset/train_data.txt\", \"w\", encoding=\"utf-8\") as f:\n",
        "        f.write(\"\\n\".join(train.data))\n",
        "    with open(\"dataset/test_data.txt\", \"w\", encoding=\"utf-8\") as f:\n",
        "        f.write(\"\\n\".join(test.data))\n",
        "    np.savetxt(\"dataset/train_labels.txt\", train.target, fmt=\"%d\")\n",
        "    np.savetxt(\"dataset/test_labels.txt\", test.target, fmt=\"%d\")\n",
        "\n",
        "    logging.info(\"Dataset saved successfully.\")\n",
        "    return train, test"
      ],
      "metadata": {
        "id": "osiw-fWsqpFK"
      },
      "execution_count": null,
      "outputs": []
    },
    {
      "cell_type": "code",
      "source": [
        "def prepare_features(train, test):\n",
        "    logging.info(\"Vectorizing text using TF-IDF...\")\n",
        "    vectorizer = TfidfVectorizer()\n",
        "    X_train = vectorizer.fit_transform(train.data)\n",
        "    X_test = vectorizer.transform(test.data)\n",
        "    return X_train, X_test, vectorizer"
      ],
      "metadata": {
        "id": "ICsK4nfGqsgO"
      },
      "execution_count": null,
      "outputs": []
    },
    {
      "cell_type": "code",
      "source": [
        "def train_model(X_train, y_train):\n",
        "    logging.info(\"Training Multinomial Naive Bayes model...\")\n",
        "    model = MultinomialNB()\n",
        "    model.fit(X_train, y_train)\n",
        "    logging.info(\"Model training completed.\")\n",
        "    return model"
      ],
      "metadata": {
        "id": "3iKArqxuqsxb"
      },
      "execution_count": null,
      "outputs": []
    },
    {
      "cell_type": "code",
      "source": [
        "def evaluate_model(model, X_test, y_test):\n",
        "    logging.info(\"Evaluating model...\")\n",
        "    y_pred = model.predict(X_test)\n",
        "    mat = confusion_matrix(y_test, y_pred)\n",
        "\n",
        "    logging.info(f\"Confusion Matrix:\\n{mat}\")\n",
        "    np.savetxt(\"dataset/confusion_matrix.txt\", mat, fmt=\"%d\")\n",
        "\n",
        "    return mat"
      ],
      "metadata": {
        "id": "-HqE8KW6quZP"
      },
      "execution_count": null,
      "outputs": []
    },
    {
      "cell_type": "code",
      "source": [
        "def plot_confusion_matrix(mat, categories):\n",
        "    logging.info(\"Plotting confusion matrix...\")\n",
        "    fig, ax = plt.subplots(figsize=(8, 6))\n",
        "    sns.heatmap(mat.T, square=True, annot=True, fmt='d', cbar=False, xticklabels=categories, yticklabels=categories)\n",
        "    plt.xlabel('True label')\n",
        "    plt.ylabel('Predicted label')\n",
        "    plt.tight_layout()\n",
        "    plt.savefig(\"dataset/confusion_matrix.png\")\n",
        "    plt.show()\n",
        "    logging.info(\"Confusion matrix saved as 'dataset/confusion_matrix.png'.\")"
      ],
      "metadata": {
        "id": "alR1HTd6qwUM"
      },
      "execution_count": null,
      "outputs": []
    },
    {
      "cell_type": "code",
      "source": [
        "def predict_category(text, vectorizer, model, target_names):\n",
        "    logging.info(f\"Predicting category for input text: {text}\")\n",
        "    X = vectorizer.transform([text])\n",
        "    y = model.predict(X)[0]\n",
        "    logging.info(f\"Predicted category: {target_names[y]}\")\n",
        "    return target_names[y]"
      ],
      "metadata": {
        "id": "vtr35jKjqx-u"
      },
      "execution_count": null,
      "outputs": []
    },
    {
      "cell_type": "code",
      "source": [
        "logging.info(\"Script execution started.\")"
      ],
      "metadata": {
        "id": "KXGnvHIjqzli"
      },
      "execution_count": null,
      "outputs": []
    },
    {
      "cell_type": "code",
      "source": [
        "# Load data\n",
        "train, test = load_data()"
      ],
      "metadata": {
        "id": "301HZp32q09A"
      },
      "execution_count": null,
      "outputs": []
    },
    {
      "cell_type": "code",
      "source": [
        "# Prepare features\n",
        "X_train, X_test, vectorizer = prepare_features(train, test)"
      ],
      "metadata": {
        "id": "VcCKyaV2q4OD"
      },
      "execution_count": null,
      "outputs": []
    },
    {
      "cell_type": "code",
      "source": [
        "# Train model\n",
        "model = train_model(X_train, train.target)"
      ],
      "metadata": {
        "id": "G_RIAKgBq-Hu"
      },
      "execution_count": null,
      "outputs": []
    },
    {
      "cell_type": "code",
      "source": [
        "# Evaluate model\n",
        "confusion_mat = evaluate_model(model, X_test, test.target)"
      ],
      "metadata": {
        "id": "MrFN1BxyrBnC"
      },
      "execution_count": null,
      "outputs": []
    },
    {
      "cell_type": "code",
      "source": [
        "# Plot results\n",
        "plot_confusion_matrix(confusion_mat, train.target_names)"
      ],
      "metadata": {
        "colab": {
          "base_uri": "https://localhost:8080/",
          "height": 607
        },
        "id": "IcwFMIh1rFEi",
        "outputId": "82db5a1f-eed7-45a2-f001-9489b3d1c7e3"
      },
      "execution_count": null,
      "outputs": [
        {
          "output_type": "display_data",
          "data": {
            "text/plain": [
              "<Figure size 800x600 with 1 Axes>"
            ],
            "image/png": "[encoded data removed]"
          },
          "metadata": {}
        }
      ]
    },
    {
      "cell_type": "code",
      "source": [
        "# prediction\n",
        "sample_text = \"The church and religion have been an important part of human history\"\n",
        "predicted_category = predict_category(sample_text, vectorizer, model, train.target_names)\n",
        "print(f\"Predicted category: {predicted_category}\")\n",
        "\n",
        "logging.info(\"Script execution completed.\")"
      ],
      "metadata": {
        "colab": {
          "base_uri": "https://localhost:8080/"
        },
        "id": "YnhxkU6grJK-",
        "outputId": "ac492bcb-0e76-4003-b3ba-90a3565a02fe"
      },
      "execution_count": null,
      "outputs": [
        {
          "output_type": "stream",
          "name": "stdout",
          "text": [
            "Predicted category: soc.religion.christian\n"
          ]
        }
      ]
    }
  ],
  "metadata": {
    "anaconda-cloud": {},
    "kernelspec": {
      "display_name": "Python 3",
      "language": "python",
      "name": "python3"
    },
    "language_info": {
      "codemirror_mode": {
        "name": "ipython",
        "version": 3
      },
      "file_extension": ".py",
      "mimetype": "text/x-python",
      "name": "python",
      "nbconvert_exporter": "python",
      "pygments_lexer": "ipython3",
      "version": "3.11.0"
    },
    "colab": {
      "provenance": []
    }
  },
  "nbformat": 4,
  "nbformat_minor": 0
}